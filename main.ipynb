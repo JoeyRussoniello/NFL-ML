{
 "cells": [
  {
   "cell_type": "code",
   "execution_count": 68,
   "metadata": {},
   "outputs": [
    {
     "name": "stdout",
     "output_type": "stream",
     "text": [
      "player_data DataFrame up to date!\n",
      "Model trained. ~0.5956 precision in test set.\n",
      "superbowl_data DataFrame up to date!\n",
      "Super Bowl Winners up to date!\n",
      "The classifier is generally correct ~96.02% of the time\n",
      "The classifier guessed that the superbowl winning team would win ~68.0% of the time.\n"
     ]
    }
   ],
   "source": [
    "%run \".\\train_models.ipynb\""
   ]
  },
  {
   "cell_type": "code",
   "execution_count": 69,
   "metadata": {},
   "outputs": [
    {
     "name": "stdout",
     "output_type": "stream",
     "text": [
      "Predicted winner: 49ers\n"
     ]
    }
   ],
   "source": [
    "def predict_winner(team1,team2, year):\n",
    "    year1 = year-1\n",
    "    year2 = year - 1\n",
    "    if (\" \" in team1 or \" \" in team2):\n",
    "        print(\"Team names must be single words\")\n",
    "        return\n",
    "    updated_team1 = str(year1) + \" \" + team1\n",
    "    updated_team2 = str(year2) + \" \" +team2\n",
    "    if ((updated_team1 in team_data_dict) and (updated_team2 in team_data_dict)):\n",
    "        team1data = list(team_data_dict[updated_team1])\n",
    "        team2data = list(team_data_dict[updated_team2])\n",
    "        combineddata = [[team1,team2]+team1data+team2data]\n",
    "        df = pd.DataFrame(combineddata,columns = expandedheadings)\n",
    "        df.drop([\"Team 1 Team\",\"Team 2 Team\"],axis = 1,inplace= True)\n",
    "        outcome = all_games_forest.predict(df.iloc[:,2:])[0]\n",
    "        if outcome == \"Team 2\":\n",
    "            winner = team2\n",
    "        if outcome == \"Team 1\":\n",
    "            winner = team1\n",
    "        print(f\"Predicted winner: {winner}\")\n",
    "    elif updated_team2 not in team_data_dict:\n",
    "        print(\"Previous year: {updated_team2} not in dataset.\")\n",
    "    elif updated_team1 not in team_data_dict:\n",
    "        print(\"Previous year: {updated_team1} not in dataset.\")\n",
    "\n",
    "#Example function call\n",
    "predict_winner(\"Cardinals\",\"49ers\",2024)\n"
   ]
  }
 ],
 "metadata": {
  "language_info": {
   "name": "python"
  }
 },
 "nbformat": 4,
 "nbformat_minor": 2
}
